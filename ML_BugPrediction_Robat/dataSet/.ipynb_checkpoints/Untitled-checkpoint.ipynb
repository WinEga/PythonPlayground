{
 "cells": [
  {
   "cell_type": "code",
   "execution_count": 6,
   "metadata": {},
   "outputs": [
    {
     "name": "stdout",
     "output_type": "stream",
     "text": [
      "     bugId                                        description  \\\n",
      "0  CE-6945  An error message is getting displayed, if user...   \n",
      "1  CE-6950  Deep fat fryer question is not getting display...   \n",
      "\n",
      "   shortDescription        detectedDate             detectedBY  \\\n",
      "0               NaN 2018-07-17 08:42:00  Thulasi Priya Vijayan   \n",
      "1               NaN 2018-07-17 13:52:00            Priya Raghu   \n",
      "\n",
      "                    module priority severity        sprint release status  \\\n",
      "0                       UX      Low    Minor  1.3 Sprint 1  R1.3.1   Done   \n",
      "1  UXP - Engagement Centre   Medium   Medium  1.3 Sprint 1  R1.3.1   Done   \n",
      "\n",
      "            closedDate actualRootcause     assignedTo linkedUserstories  \\\n",
      "0  2018-07-17 10:39:00             NaN     Eve Hodges               NaN   \n",
      "1  2018-07-17 15:01:00             NaN  Ansar Mehmood           CE-6938   \n",
      "\n",
      "        projectid  \n",
      "0  Commercial EVO  \n",
      "1  Commercial EVO  \n"
     ]
    }
   ],
   "source": [
    "import pandas as pd\n",
    "\n",
    "bugHistoryData = pd.read_excel('EVO_Defect Template_sample.xlsx')\n",
    "print(bugHistoryData.head(2))"
   ]
  },
  {
   "cell_type": "code",
   "execution_count": null,
   "metadata": {},
   "outputs": [],
   "source": []
  }
 ],
 "metadata": {
  "kernelspec": {
   "display_name": "Python 3",
   "language": "python",
   "name": "python3"
  },
  "language_info": {
   "codemirror_mode": {
    "name": "ipython",
    "version": 3
   },
   "file_extension": ".py",
   "mimetype": "text/x-python",
   "name": "python",
   "nbconvert_exporter": "python",
   "pygments_lexer": "ipython3",
   "version": "3.7.4"
  }
 },
 "nbformat": 4,
 "nbformat_minor": 2
}
