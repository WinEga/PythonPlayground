{
 "cells": [
  {
   "cell_type": "code",
   "execution_count": 24,
   "metadata": {},
   "outputs": [
    {
     "name": "stdout",
     "output_type": "stream",
     "text": [
      "         bugId                                        description  \\\n",
      "0      CE-6945  An error message is getting displayed, if user...   \n",
      "1      CE-6950  Deep fat fryer question is not getting display...   \n",
      "2      CE-6952  Plastic consultancy trade is getting declined ...   \n",
      "3      CE-6939  Smoke test_Issues found during smoke test_1707...   \n",
      "4      CE-6870  Functional Exploratory_Clock symbol is not get...   \n",
      "...        ...                                                ...   \n",
      "2102   CE-4441  \"Lookup Return\" Tab in Vehicle screen is missi...   \n",
      "2103  CE-12954                                            UAT Van   \n",
      "2104  CE-15291     CE-14244 UAT INT:NCD Upload file not generated   \n",
      "2105  CE-15560  IQH MTA request does not contain previous LN a...   \n",
      "2106  CE-15390  CE-14244 UAT INT - Hunter File is not getting ...   \n",
      "\n",
      "      shortDescription        detectedDate               detectedBY  \\\n",
      "0                  NaN 2018-07-17 08:42:00    Thulasi Priya Vijayan   \n",
      "1                  NaN 2018-07-17 13:52:00              Priya Raghu   \n",
      "2                  NaN 2018-07-17 14:26:00              Priya Raghu   \n",
      "3                  NaN 2018-07-17 06:25:00              Priya Raghu   \n",
      "4                  NaN 2018-07-11 14:32:00              Priya Raghu   \n",
      "...                ...                 ...                      ...   \n",
      "2102               NaN 2018-04-04 10:34:00                 Ramkumar   \n",
      "2103               NaN 2019-03-01 06:15:00        Nivethitha Samraj   \n",
      "2104               NaN 2019-06-03 07:11:00  Naveen Balasubramaniyan   \n",
      "2105               NaN 2019-06-17 15:38:00             Elliot Brown   \n",
      "2106               NaN 2019-06-07 07:04:00  Naveen Balasubramaniyan   \n",
      "\n",
      "                         module priority severity        sprint release  \\\n",
      "0                            UX      Low    Minor  1.3 Sprint 1  R1.3.1   \n",
      "1       UXP - Engagement Centre   Medium   Medium  1.3 Sprint 1  R1.3.1   \n",
      "2       UXP - Engagement Centre   Medium   Medium  1.3 Sprint 1  R1.3.1   \n",
      "3                           CCM   Medium   Medium  1.3 Sprint 1  R1.3.1   \n",
      "4       UXP - Engagement Centre   Medium   Medium  1.3 Sprint 1  R1.3.1   \n",
      "...                         ...      ...      ...           ...     ...   \n",
      "2102                        NaN   Medium   Medium           NaN    R2.0   \n",
      "2103  Select, UXP - Web Journey     High   Medium           NaN    R2.0   \n",
      "2104                        NaN     High   Medium           NaN    R2.0   \n",
      "2105                        NaN     High   Medium           NaN    R2.0   \n",
      "2106                        NaN     High   Medium           NaN    R2.0   \n",
      "\n",
      "     status           closedDate actualRootcause               assignedTo  \\\n",
      "0      Done  2018-07-17 10:39:00             NaN               Eve Hodges   \n",
      "1      Done  2018-07-17 15:01:00             NaN            Ansar Mehmood   \n",
      "2      Done  2018-07-17 15:01:00             NaN            Ansar Mehmood   \n",
      "3      Done  2018-07-18 05:56:00             NaN          venkata namburi   \n",
      "4      Done  2018-07-12 13:20:00             NaN              Priya Raghu   \n",
      "...     ...                  ...             ...                      ...   \n",
      "2102  To Do             00:00:00             NaN            Richard heath   \n",
      "2103  To Do             00:00:00             NaN          venkata namburi   \n",
      "2104  To Do             00:00:00             NaN           Sushant Bansal   \n",
      "2105  To Do             00:00:00             NaN               Unassigned   \n",
      "2106  To Do             00:00:00             NaN  Naveen Balasubramaniyan   \n",
      "\n",
      "     linkedUserstories       projectid  \n",
      "0                  NaN  Commercial EVO  \n",
      "1              CE-6938  Commercial EVO  \n",
      "2              CE-6938  Commercial EVO  \n",
      "3                  NaN  Commercial EVO  \n",
      "4              CE-6346  Commercial EVO  \n",
      "...                ...             ...  \n",
      "2102  CE-2996, CE-4465  Commercial EVO  \n",
      "2103               NaN  Commercial EVO  \n",
      "2104               NaN  Commercial EVO  \n",
      "2105          CE-13939  Commercial EVO  \n",
      "2106               NaN  Commercial EVO  \n",
      "\n",
      "[2107 rows x 16 columns]\n"
     ]
    }
   ],
   "source": [
    "import pandas as pd\n",
    "\n",
    "bugHistoryData = pd.read_excel('EVO_Defect Template_sample.xlsx')\n",
    "descriptionText = bugHistoryData.description\n",
    "print(bugHistoryData)\n",
    "uniqueWordsAll ={}\n",
    "for x in descriptionText:\n",
    "    words = x.split()\n",
    "    uniqueWords = set(words)\n",
    "   # uniqueWordsAll =uniqueWordsAll.union(uniqueWords)\n",
    "   # print (uniqueWords)\n"
   ]
  },
  {
   "cell_type": "code",
   "execution_count": null,
   "metadata": {},
   "outputs": [],
   "source": []
  },
  {
   "cell_type": "code",
   "execution_count": null,
   "metadata": {},
   "outputs": [],
   "source": []
  }
 ],
 "metadata": {
  "kernelspec": {
   "display_name": "Python 3",
   "language": "python",
   "name": "python3"
  },
  "language_info": {
   "codemirror_mode": {
    "name": "ipython",
    "version": 3
   },
   "file_extension": ".py",
   "mimetype": "text/x-python",
   "name": "python",
   "nbconvert_exporter": "python",
   "pygments_lexer": "ipython3",
   "version": "3.7.4"
  }
 },
 "nbformat": 4,
 "nbformat_minor": 2
}
